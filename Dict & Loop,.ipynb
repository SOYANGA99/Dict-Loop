{
 "cells": [
  {
   "cell_type": "code",
   "execution_count": 1,
   "id": "0265684e-ea7c-422b-b755-166570cb3ad5",
   "metadata": {},
   "outputs": [],
   "source": [
    "d={}"
   ]
  },
  {
   "cell_type": "code",
   "execution_count": 2,
   "id": "99a15731-db3e-4d9b-aecd-1c00c607c6c9",
   "metadata": {},
   "outputs": [
    {
     "data": {
      "text/plain": [
       "dict"
      ]
     },
     "execution_count": 2,
     "metadata": {},
     "output_type": "execute_result"
    }
   ],
   "source": [
    "type(d)"
   ]
  },
  {
   "cell_type": "code",
   "execution_count": 3,
   "id": "ece56bf0-3a19-42b4-b35b-6c21bffde4a1",
   "metadata": {},
   "outputs": [],
   "source": [
    "d1={'key' : \"silu\"}"
   ]
  },
  {
   "cell_type": "code",
   "execution_count": 4,
   "id": "99975676-e2f7-4df3-abdc-fbc4fc5c43f6",
   "metadata": {},
   "outputs": [
    {
     "data": {
      "text/plain": [
       "{'key': 'silu'}"
      ]
     },
     "execution_count": 4,
     "metadata": {},
     "output_type": "execute_result"
    }
   ],
   "source": [
    "d1"
   ]
  },
  {
   "cell_type": "code",
   "execution_count": 5,
   "id": "e5a0b798-04c2-4862-9be2-9d1d5364123d",
   "metadata": {},
   "outputs": [],
   "source": [
    "d2= {'name' : \"Silan\" , \"email\":\"ss99@gmail.com\", \"number\":456765}"
   ]
  },
  {
   "cell_type": "code",
   "execution_count": 6,
   "id": "85c6452f-02da-4626-a631-951a0194eb7d",
   "metadata": {},
   "outputs": [
    {
     "data": {
      "text/plain": [
       "{'name': 'Silan', 'email': 'ss99@gmail.com', 'number': 456765}"
      ]
     },
     "execution_count": 6,
     "metadata": {},
     "output_type": "execute_result"
    }
   ],
   "source": [
    "d2"
   ]
  },
  {
   "cell_type": "code",
   "execution_count": 9,
   "id": "b4c8c8c3-04d0-4c07-97f5-178275d1a84c",
   "metadata": {},
   "outputs": [],
   "source": [
    "d3={234 : \"silu\" , '_wer' : \"sahoo\", True :23456}"
   ]
  },
  {
   "cell_type": "code",
   "execution_count": 10,
   "id": "dad603ce-bed7-4b45-b8b7-612e621f4f92",
   "metadata": {},
   "outputs": [
    {
     "data": {
      "text/plain": [
       "{234: 'silu', '_wer': 'sahoo', True: 23456}"
      ]
     },
     "execution_count": 10,
     "metadata": {},
     "output_type": "execute_result"
    }
   ],
   "source": [
    "d3"
   ]
  },
  {
   "cell_type": "code",
   "execution_count": 12,
   "id": "4d6ae12c-6974-4504-b42f-52e3f55cbdf4",
   "metadata": {},
   "outputs": [
    {
     "data": {
      "text/plain": [
       "'silu'"
      ]
     },
     "execution_count": 12,
     "metadata": {},
     "output_type": "execute_result"
    }
   ],
   "source": [
    "d3[234]"
   ]
  },
  {
   "cell_type": "code",
   "execution_count": 13,
   "id": "0e83b4d4-fc03-4b5d-b359-93d71da6ac5a",
   "metadata": {},
   "outputs": [
    {
     "data": {
      "text/plain": [
       "23456"
      ]
     },
     "execution_count": 13,
     "metadata": {},
     "output_type": "execute_result"
    }
   ],
   "source": [
    "d3[True]"
   ]
  },
  {
   "cell_type": "code",
   "execution_count": 14,
   "id": "8f95f1f5-b4ed-477f-9981-af8e70ddc214",
   "metadata": {},
   "outputs": [
    {
     "data": {
      "text/plain": [
       "23456"
      ]
     },
     "execution_count": 14,
     "metadata": {},
     "output_type": "execute_result"
    }
   ],
   "source": [
    "d3[1]\n",
    "#Here the 1 means True so the result is True's value."
   ]
  },
  {
   "cell_type": "code",
   "execution_count": 15,
   "id": "6e3b5f05-f08b-4e91-a884-aa18076b5d6d",
   "metadata": {},
   "outputs": [],
   "source": [
    "d4={'name':\"silu\" , 'mail-id' : \"ss99@gmail.com\" , \"name\" : \"silan\"}"
   ]
  },
  {
   "cell_type": "code",
   "execution_count": 16,
   "id": "66abc9d1-87df-4949-a683-a40d84214c87",
   "metadata": {},
   "outputs": [
    {
     "data": {
      "text/plain": [
       "{'name': 'silan', 'mail-id': 'ss99@gmail.com'}"
      ]
     },
     "execution_count": 16,
     "metadata": {},
     "output_type": "execute_result"
    }
   ],
   "source": [
    "d4"
   ]
  },
  {
   "cell_type": "code",
   "execution_count": 17,
   "id": "a90cfd8f-c915-4cb6-b23b-8c15a5db2a9f",
   "metadata": {},
   "outputs": [
    {
     "data": {
      "text/plain": [
       "'silan'"
      ]
     },
     "execution_count": 17,
     "metadata": {},
     "output_type": "execute_result"
    }
   ],
   "source": [
    "d4['name']"
   ]
  },
  {
   "cell_type": "code",
   "execution_count": 18,
   "id": "da73bd67-cb34-41ac-b9de-a890bcd87aa7",
   "metadata": {},
   "outputs": [],
   "source": [
    "d5={\"company\" : \"pwskills\", \"course\" : [\"web dev\" ,\"data science\", \"java with dsa system design\"]}"
   ]
  },
  {
   "cell_type": "code",
   "execution_count": 19,
   "id": "2c3ad1f8-19ff-4abe-a1d7-59ad7c4384f7",
   "metadata": {},
   "outputs": [
    {
     "data": {
      "text/plain": [
       "{'company': 'pwskills',\n",
       " 'course': ['web dev', 'data science', 'java with dsa system design']}"
      ]
     },
     "execution_count": 19,
     "metadata": {},
     "output_type": "execute_result"
    }
   ],
   "source": [
    "d5"
   ]
  },
  {
   "cell_type": "code",
   "execution_count": 20,
   "id": "d0344760-c33d-414c-8de8-2f389ec3fde7",
   "metadata": {},
   "outputs": [
    {
     "data": {
      "text/plain": [
       "['web dev', 'data science', 'java with dsa system design']"
      ]
     },
     "execution_count": 20,
     "metadata": {},
     "output_type": "execute_result"
    }
   ],
   "source": [
    "d5['course']"
   ]
  },
  {
   "cell_type": "code",
   "execution_count": 23,
   "id": "0e93a825-251e-4b9c-8a5b-a805bfaf9795",
   "metadata": {},
   "outputs": [
    {
     "data": {
      "text/plain": [
       "'java with dsa system design'"
      ]
     },
     "execution_count": 23,
     "metadata": {},
     "output_type": "execute_result"
    }
   ],
   "source": [
    "d5['course'][2]"
   ]
  },
  {
   "cell_type": "code",
   "execution_count": 26,
   "id": "a8f27d3a-0b31-4a28-88ba-68a9162a0520",
   "metadata": {},
   "outputs": [],
   "source": [
    "d6={\"number\" : [2,34,3,34,34], \"assignment\" :(1,2,3,4,5,6), \"launch_date\" :{28,12,14} , \"class_timming\" : {\"web_dev\":8,\"data _science_master\":8}}"
   ]
  },
  {
   "cell_type": "code",
   "execution_count": 27,
   "id": "1a343efa-1b5b-4265-92e7-79587dfe9dfc",
   "metadata": {},
   "outputs": [
    {
     "data": {
      "text/plain": [
       "{'number': [2, 34, 3, 34, 34],\n",
       " 'assignment': (1, 2, 3, 4, 5, 6),\n",
       " 'launch_date': {12, 14, 28},\n",
       " 'class_timming': {'web_dev': 8, 'data _science_master': 8}}"
      ]
     },
     "execution_count": 27,
     "metadata": {},
     "output_type": "execute_result"
    }
   ],
   "source": [
    "d6"
   ]
  },
  {
   "cell_type": "code",
   "execution_count": 28,
   "id": "28292e39-3341-493f-ad7f-d2da3587e98a",
   "metadata": {},
   "outputs": [
    {
     "data": {
      "text/plain": [
       "{'web_dev': 8, 'data _science_master': 8}"
      ]
     },
     "execution_count": 28,
     "metadata": {},
     "output_type": "execute_result"
    }
   ],
   "source": [
    "d6[\"class_timming\"]"
   ]
  },
  {
   "cell_type": "code",
   "execution_count": 29,
   "id": "ae6d5414-2c49-4fb9-b5e2-e3f0097b200a",
   "metadata": {},
   "outputs": [
    {
     "data": {
      "text/plain": [
       "8"
      ]
     },
     "execution_count": 29,
     "metadata": {},
     "output_type": "execute_result"
    }
   ],
   "source": [
    "d6[\"class_timming\"]['web_dev']"
   ]
  },
  {
   "cell_type": "code",
   "execution_count": 32,
   "id": "c722d097-aa10-44c8-b7c1-2287e194c621",
   "metadata": {},
   "outputs": [],
   "source": [
    "d6[\"mentor\"]=[\"sudhanshu\",\"krish\",\"anurag\",\"hayder\"]"
   ]
  },
  {
   "cell_type": "code",
   "execution_count": 33,
   "id": "453a1f1b-5bc6-4210-8480-5755b9223a64",
   "metadata": {},
   "outputs": [
    {
     "data": {
      "text/plain": [
       "{'number': [2, 34, 3, 34, 34],\n",
       " 'assignment': (1, 2, 3, 4, 5, 6),\n",
       " 'launch_date': {12, 14, 28},\n",
       " 'class_timming': {'web_dev': 8, 'data _science_master': 8},\n",
       " 'mentor': ['sudhanshu', 'krish', 'anurag', 'hayder']}"
      ]
     },
     "execution_count": 33,
     "metadata": {},
     "output_type": "execute_result"
    }
   ],
   "source": [
    "d6"
   ]
  },
  {
   "cell_type": "code",
   "execution_count": 34,
   "id": "b8839ccf-6354-4bbc-889a-29130a9cd9d0",
   "metadata": {},
   "outputs": [],
   "source": [
    "del d6['number']"
   ]
  },
  {
   "cell_type": "code",
   "execution_count": 35,
   "id": "c2845156-5572-4968-9119-99d38c5b0875",
   "metadata": {},
   "outputs": [
    {
     "data": {
      "text/plain": [
       "{'assignment': (1, 2, 3, 4, 5, 6),\n",
       " 'launch_date': {12, 14, 28},\n",
       " 'class_timming': {'web_dev': 8, 'data _science_master': 8},\n",
       " 'mentor': ['sudhanshu', 'krish', 'anurag', 'hayder']}"
      ]
     },
     "execution_count": 35,
     "metadata": {},
     "output_type": "execute_result"
    }
   ],
   "source": [
    "d6"
   ]
  },
  {
   "cell_type": "code",
   "execution_count": 38,
   "id": "402f71b7-554c-4498-b5a3-86b2a816750a",
   "metadata": {},
   "outputs": [
    {
     "data": {
      "text/plain": [
       "['assignment', 'launch_date', 'class_timming', 'mentor']"
      ]
     },
     "execution_count": 38,
     "metadata": {},
     "output_type": "execute_result"
    }
   ],
   "source": [
    "list(d6.keys())"
   ]
  },
  {
   "cell_type": "code",
   "execution_count": 39,
   "id": "fa591e16-e85d-4f02-bb68-ac751fac2105",
   "metadata": {},
   "outputs": [
    {
     "data": {
      "text/plain": [
       "[(1, 2, 3, 4, 5, 6),\n",
       " {12, 14, 28},\n",
       " {'web_dev': 8, 'data _science_master': 8},\n",
       " ['sudhanshu', 'krish', 'anurag', 'hayder']]"
      ]
     },
     "execution_count": 39,
     "metadata": {},
     "output_type": "execute_result"
    }
   ],
   "source": [
    "list(d6.values())"
   ]
  },
  {
   "cell_type": "code",
   "execution_count": 41,
   "id": "d4ded643-a00f-45b8-9627-aa74ff7faf61",
   "metadata": {},
   "outputs": [
    {
     "data": {
      "text/plain": [
       "[('assignment', (1, 2, 3, 4, 5, 6)),\n",
       " ('launch_date', {12, 14, 28}),\n",
       " ('class_timming', {'web_dev': 8, 'data _science_master': 8}),\n",
       " ('mentor', ['sudhanshu', 'krish', 'anurag', 'hayder'])]"
      ]
     },
     "execution_count": 41,
     "metadata": {},
     "output_type": "execute_result"
    }
   ],
   "source": [
    "list(d6.items())"
   ]
  },
  {
   "cell_type": "code",
   "execution_count": 43,
   "id": "cb437e88-0d77-44aa-aada-efcc70f8d5b5",
   "metadata": {},
   "outputs": [
    {
     "data": {
      "text/plain": [
       "(1, 2, 3, 4, 5, 6)"
      ]
     },
     "execution_count": 43,
     "metadata": {},
     "output_type": "execute_result"
    }
   ],
   "source": [
    "d6.pop(\"assignment\")"
   ]
  },
  {
   "cell_type": "code",
   "execution_count": 44,
   "id": "f5e4ec51-a325-4058-a5f7-c57bdbb53f19",
   "metadata": {},
   "outputs": [
    {
     "data": {
      "text/plain": [
       "{'launch_date': {12, 14, 28},\n",
       " 'class_timming': {'web_dev': 8, 'data _science_master': 8},\n",
       " 'mentor': ['sudhanshu', 'krish', 'anurag', 'hayder']}"
      ]
     },
     "execution_count": 44,
     "metadata": {},
     "output_type": "execute_result"
    }
   ],
   "source": [
    "d6"
   ]
  },
  {
   "cell_type": "markdown",
   "id": "020db37d-402a-41ef-b40d-b19c603481cc",
   "metadata": {},
   "source": [
    "# Control_Flow"
   ]
  },
  {
   "cell_type": "code",
   "execution_count": 46,
   "id": "ef8a1341-fe32-434a-a418-359b94c14b8b",
   "metadata": {},
   "outputs": [
    {
     "name": "stdout",
     "output_type": "stream",
     "text": [
      "You'll be a part of A1 batch\n"
     ]
    }
   ],
   "source": [
    "marks=65\n",
    "if marks>=80:\n",
    "    print(\"You'll be a part of A0 batch\")\n",
    "elif marks >= 60 and marks<80:\n",
    "    print(\"You'll be a part of A1 batch\")\n",
    "elif marks >= 40 and marks<60:\n",
    "    print(\"You'll be a part of A2 batch\")\n",
    "else:\n",
    "    print(\"You'll be a part of A2 batch\")"
   ]
  },
  {
   "cell_type": "markdown",
   "id": "6f01fcc5-0b9a-4b74-8aa6-9faa76b4dea9",
   "metadata": {},
   "source": [
    "# INPUT_PROCESS"
   ]
  },
  {
   "cell_type": "code",
   "execution_count": 2,
   "id": "6d7246ef-b0c2-4dc9-82cf-dc45f541a8bd",
   "metadata": {},
   "outputs": [
    {
     "name": "stdin",
     "output_type": "stream",
     "text": [
      "Enter your marks:- 45\n"
     ]
    },
    {
     "name": "stdout",
     "output_type": "stream",
     "text": [
      "You'll be a part of A2 batch\n"
     ]
    }
   ],
   "source": [
    "marks=int(input(\"Enter your marks:-\"))\n",
    "if marks>=80:\n",
    "    print(\"You'll be a part of A0 batch\")\n",
    "elif marks >= 60 and marks<80:\n",
    "    print(\"You'll be a part of A1 batch\")\n",
    "elif marks >= 40 and marks<60:\n",
    "    print(\"You'll be a part of A2 batch\")\n",
    "else:\n",
    "    print(\"You'll be a part of A2 batch\")"
   ]
  },
  {
   "cell_type": "code",
   "execution_count": 4,
   "id": "b42c219a-08f0-432f-a4d5-fa593f49c2a2",
   "metadata": {},
   "outputs": [
    {
     "data": {
      "text/plain": [
       "int"
      ]
     },
     "execution_count": 4,
     "metadata": {},
     "output_type": "execute_result"
    }
   ],
   "source": [
    "type(marks)"
   ]
  },
  {
   "cell_type": "code",
   "execution_count": 6,
   "id": "c24b205e-306e-48c6-bd0c-e32dd47b2a79",
   "metadata": {},
   "outputs": [
    {
     "name": "stdin",
     "output_type": "stream",
     "text": [
      "Enter the price of things:- 3456\n"
     ]
    },
    {
     "name": "stdout",
     "output_type": "stream",
     "text": [
      "I will not purchase\n"
     ]
    }
   ],
   "source": [
    "price=int(input(\"Enter the price of things:-\"))\n",
    "if price >1000:\n",
    "    print(\"I will not purchase\")\n",
    "else:\n",
    "    print(\"I will purchase\")"
   ]
  },
  {
   "cell_type": "code",
   "execution_count": 11,
   "id": "95c0521f-3cbf-4179-8303-a7c4b800b3d8",
   "metadata": {},
   "outputs": [
    {
     "name": "stdin",
     "output_type": "stream",
     "text": [
      "Enter the price of things:- 18\n"
     ]
    },
    {
     "name": "stdout",
     "output_type": "stream",
     "text": [
      "I'll purchase\n"
     ]
    }
   ],
   "source": [
    "price=int(input(\"Enter the price of things:-\"))\n",
    "if price >1000:\n",
    "    print(\"I will not purchase\")\n",
    "    if price>5000:\n",
    "        print(\"This is too much\")\n",
    "    elif price < 2000:\n",
    "        print(\"It's ok\")\n",
    "elif price>100 and price<1000:\n",
    "    print(\"I'm not intrested\")\n",
    "else:\n",
    "    print(\"I'll purchase\")\n"
   ]
  },
  {
   "cell_type": "markdown",
   "id": "3fccf436-dd9e-445a-8618-df4edc747fb8",
   "metadata": {},
   "source": [
    "# LOOP"
   ]
  },
  {
   "cell_type": "code",
   "execution_count": 12,
   "id": "d4df492b-c9e5-4d73-b220-b24ac92f7355",
   "metadata": {},
   "outputs": [],
   "source": [
    "l=[1,2,3,4,5,6,7,8]"
   ]
  },
  {
   "cell_type": "code",
   "execution_count": 13,
   "id": "a6304320-317b-4f79-984f-b7e74b1df0df",
   "metadata": {},
   "outputs": [
    {
     "data": {
      "text/plain": [
       "1"
      ]
     },
     "execution_count": 13,
     "metadata": {},
     "output_type": "execute_result"
    }
   ],
   "source": [
    "l[0]"
   ]
  },
  {
   "cell_type": "code",
   "execution_count": 14,
   "id": "b7e02bef-b6d2-42f3-ac09-4f7c23de6112",
   "metadata": {},
   "outputs": [
    {
     "data": {
      "text/plain": [
       "2"
      ]
     },
     "execution_count": 14,
     "metadata": {},
     "output_type": "execute_result"
    }
   ],
   "source": [
    "l[0]+1"
   ]
  },
  {
   "cell_type": "code",
   "execution_count": 15,
   "id": "8ed63dec-f4cf-4059-ae8b-41b5199d74ea",
   "metadata": {},
   "outputs": [],
   "source": [
    "l1=[]"
   ]
  },
  {
   "cell_type": "code",
   "execution_count": 16,
   "id": "f4f8bb34-367d-4549-a105-c463d73201ca",
   "metadata": {},
   "outputs": [],
   "source": [
    "l1.append(l[0]+1)"
   ]
  },
  {
   "cell_type": "code",
   "execution_count": 17,
   "id": "7c945c6e-12ec-444f-b49c-e3ccc20aaf52",
   "metadata": {},
   "outputs": [
    {
     "data": {
      "text/plain": [
       "[2]"
      ]
     },
     "execution_count": 17,
     "metadata": {},
     "output_type": "execute_result"
    }
   ],
   "source": [
    "l1"
   ]
  },
  {
   "cell_type": "markdown",
   "id": "9e3afaf1-22cb-47d6-8bf1-adae002178d7",
   "metadata": {},
   "source": [
    "# FOR_LOOP"
   ]
  },
  {
   "cell_type": "code",
   "execution_count": 18,
   "id": "38db0ae5-eebf-4b6a-9999-91bf0aba5ee9",
   "metadata": {},
   "outputs": [],
   "source": [
    "l=[1,2,3,3,4,5,6,7,8]"
   ]
  },
  {
   "cell_type": "code",
   "execution_count": 19,
   "id": "fcf7fa6b-e65e-4ce3-9197-3b3143558591",
   "metadata": {},
   "outputs": [
    {
     "data": {
      "text/plain": [
       "[1, 2, 3, 3, 4, 5, 6, 7, 8]"
      ]
     },
     "execution_count": 19,
     "metadata": {},
     "output_type": "execute_result"
    }
   ],
   "source": [
    "l"
   ]
  },
  {
   "cell_type": "code",
   "execution_count": 20,
   "id": "2c8e5270-b077-4402-a3c2-e37d2d0ef30c",
   "metadata": {},
   "outputs": [
    {
     "name": "stdout",
     "output_type": "stream",
     "text": [
      "1\n",
      "2\n",
      "3\n",
      "3\n",
      "4\n",
      "5\n",
      "6\n",
      "7\n",
      "8\n"
     ]
    }
   ],
   "source": [
    "for i in l:\n",
    "    print (i)"
   ]
  },
  {
   "cell_type": "code",
   "execution_count": 21,
   "id": "ada81d53-b8ba-4f58-be8c-d09e912b6d81",
   "metadata": {},
   "outputs": [
    {
     "name": "stdout",
     "output_type": "stream",
     "text": [
      "2\n",
      "3\n",
      "4\n",
      "4\n",
      "5\n",
      "6\n",
      "7\n",
      "8\n",
      "9\n"
     ]
    }
   ],
   "source": [
    "for i in l:\n",
    "    print (i+1)"
   ]
  },
  {
   "cell_type": "code",
   "execution_count": 23,
   "id": "ad5f30e1-4380-448e-ac7b-d18f55210952",
   "metadata": {},
   "outputs": [
    {
     "name": "stdout",
     "output_type": "stream",
     "text": [
      "1\n",
      "2\n",
      "3\n",
      "3\n",
      "4\n",
      "5\n",
      "6\n",
      "7\n",
      "8\n"
     ]
    },
    {
     "data": {
      "text/plain": [
       "[2, 3, 4, 4, 5, 6, 7, 8, 9]"
      ]
     },
     "execution_count": 23,
     "metadata": {},
     "output_type": "execute_result"
    }
   ],
   "source": [
    "l1=[]\n",
    "for i in l:\n",
    "    print (i)\n",
    "    l1.append(i+1)\n",
    "l1"
   ]
  },
  {
   "cell_type": "code",
   "execution_count": 24,
   "id": "fe4a176d-fcd0-4b54-a900-7815bbce290b",
   "metadata": {},
   "outputs": [
    {
     "data": {
      "text/plain": [
       "[1, 2, 3, 3, 4, 5, 6, 7, 8]"
      ]
     },
     "execution_count": 24,
     "metadata": {},
     "output_type": "execute_result"
    }
   ],
   "source": [
    "l"
   ]
  },
  {
   "cell_type": "code",
   "execution_count": 27,
   "id": "95085a0b-5753-4d3b-bd39-3c40c7ef30ef",
   "metadata": {},
   "outputs": [],
   "source": [
    "l1=[\"silu\",\"milu\",\"pwskills\",\"course\"]"
   ]
  },
  {
   "cell_type": "code",
   "execution_count": 28,
   "id": "a4850765-c723-4349-a1c8-a64f98e8786f",
   "metadata": {},
   "outputs": [
    {
     "name": "stdout",
     "output_type": "stream",
     "text": [
      "silu\n",
      "milu\n",
      "pwskills\n",
      "course\n"
     ]
    }
   ],
   "source": [
    "for i in l1:\n",
    "    print(i)"
   ]
  },
  {
   "cell_type": "code",
   "execution_count": 31,
   "id": "5059c4b3-d530-42dd-b51e-58088747efa9",
   "metadata": {},
   "outputs": [
    {
     "name": "stdout",
     "output_type": "stream",
     "text": [
      "silu\n",
      "milu\n",
      "pwskills\n",
      "course\n"
     ]
    },
    {
     "data": {
      "text/plain": [
       "['SILU', 'MILU', 'PWSKILLS', 'COURSE']"
      ]
     },
     "execution_count": 31,
     "metadata": {},
     "output_type": "execute_result"
    }
   ],
   "source": [
    "l2=[]\n",
    "for i in l1:\n",
    "    print(i)\n",
    "    l2.append(i.upper())\n",
    "l2"
   ]
  },
  {
   "cell_type": "code",
   "execution_count": 30,
   "id": "d48997e2-8629-44af-a0f2-704f059e0a48",
   "metadata": {},
   "outputs": [
    {
     "data": {
      "text/plain": [
       "['SILU', 'MILU', 'PWSKILLS', 'COURSE']"
      ]
     },
     "execution_count": 30,
     "metadata": {},
     "output_type": "execute_result"
    }
   ],
   "source": [
    "l2"
   ]
  },
  {
   "cell_type": "code",
   "execution_count": 32,
   "id": "bb879cbf-dc5a-4aa7-aef6-9606f99f44b7",
   "metadata": {},
   "outputs": [],
   "source": [
    "l=[1,2,3,4,4,\"silu\",\"silan\",323,43,23.34,\"abc\"]"
   ]
  },
  {
   "cell_type": "code",
   "execution_count": 33,
   "id": "dbaa7135-8a94-4135-b0bf-be7a92e81c76",
   "metadata": {},
   "outputs": [
    {
     "data": {
      "text/plain": [
       "[1, 2, 3, 4, 4, 'silu', 'silan', 323, 43, 23.34, 'abc']"
      ]
     },
     "execution_count": 33,
     "metadata": {},
     "output_type": "execute_result"
    }
   ],
   "source": [
    "l"
   ]
  },
  {
   "cell_type": "code",
   "execution_count": 37,
   "id": "182a966d-e61b-4f66-aa58-192cb02dd086",
   "metadata": {},
   "outputs": [],
   "source": [
    "l1_num=[]\n",
    "l2_str=[]\n",
    "for i in l:\n",
    "    if type(i)==int or type(i)==float:\n",
    "        l1_num.append(i)\n",
    "    else:\n",
    "        l2_str.append(i)"
   ]
  },
  {
   "cell_type": "code",
   "execution_count": 38,
   "id": "4b0ff6b2-060a-485d-9d12-e0f066fcf118",
   "metadata": {},
   "outputs": [
    {
     "data": {
      "text/plain": [
       "[1, 2, 3, 4, 4, 323, 43, 23.34]"
      ]
     },
     "execution_count": 38,
     "metadata": {},
     "output_type": "execute_result"
    }
   ],
   "source": [
    "l1_num"
   ]
  },
  {
   "cell_type": "code",
   "execution_count": 39,
   "id": "9729c29d-1de1-4cc2-8dc2-729a5b76f30b",
   "metadata": {},
   "outputs": [
    {
     "data": {
      "text/plain": [
       "['silu', 'silan', 'abc']"
      ]
     },
     "execution_count": 39,
     "metadata": {},
     "output_type": "execute_result"
    }
   ],
   "source": [
    "l2_str"
   ]
  },
  {
   "cell_type": "code",
   "execution_count": null,
   "id": "56080938-c138-4b6f-9ba6-970c12b81e93",
   "metadata": {},
   "outputs": [],
   "source": []
  }
 ],
 "metadata": {
  "kernelspec": {
   "display_name": "Python 3 (ipykernel)",
   "language": "python",
   "name": "python3"
  },
  "language_info": {
   "codemirror_mode": {
    "name": "ipython",
    "version": 3
   },
   "file_extension": ".py",
   "mimetype": "text/x-python",
   "name": "python",
   "nbconvert_exporter": "python",
   "pygments_lexer": "ipython3",
   "version": "3.10.6"
  }
 },
 "nbformat": 4,
 "nbformat_minor": 5
}
